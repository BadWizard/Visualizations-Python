{
 "cells": [
  {
   "cell_type": "code",
   "execution_count": 2,
   "metadata": {
    "collapsed": false
   },
   "outputs": [
    {
     "data": {
      "text/plain": [
       "'/Users/BadWizard/.matplotlib'"
      ]
     },
     "execution_count": 2,
     "metadata": {},
     "output_type": "execute_result"
    }
   ],
   "source": [
    "import matplotlib as mpl\n",
    "mpl.get_configdir()"
   ]
  },
  {
   "cell_type": "code",
   "execution_count": 4,
   "metadata": {
    "collapsed": false
   },
   "outputs": [
    {
     "name": "stdout",
     "output_type": "stream",
     "text": [
      "\u001b[1m\u001b[36mfinance.cache\u001b[m\u001b[m       fontList.cache      fontList.py3k.cache \u001b[1m\u001b[36mtex.cache\u001b[m\u001b[m\r\n"
     ]
    }
   ],
   "source": [
    "!ls /Users/BadWizard/.matplotlib/"
   ]
  },
  {
   "cell_type": "code",
   "execution_count": 5,
   "metadata": {
    "collapsed": true
   },
   "outputs": [],
   "source": [
    "!mkdir /Users/BadWizard/.matplotlib/stylelib"
   ]
  },
  {
   "cell_type": "code",
   "execution_count": 11,
   "metadata": {
    "collapsed": false
   },
   "outputs": [
    {
     "name": "stdout",
     "output_type": "stream",
     "text": [
      "my_custom_style.mplstyle\r\n"
     ]
    }
   ],
   "source": [
    "!ls /Users/BadWizard/.matplotlib/stylelib/"
   ]
  },
  {
   "cell_type": "code",
   "execution_count": 7,
   "metadata": {
    "collapsed": true
   },
   "outputs": [],
   "source": [
    "custom_style = '''\n",
    "figure.figsize: 12, 7\n",
    "figure.edgecolor: white\n",
    "figure.facecolor: white\n",
    "\n",
    "lines.linewidth: 2.5\n",
    "lines.markeredgewidth: 0\n",
    "lines.markersize: 10\n",
    "lines.dash_capstyle: butt\n",
    "\n",
    "legend.fancybox: True\n",
    "\n",
    "font.size: 14\n",
    "\n",
    "axes.color_cycle: 1f77b4, ff7f0e, 2ca02c, d62728, 9467bd, 8c564b, e377c2, 7f7f7f, bcbd22, 17becf\n",
    "axes.linewidth: 0\n",
    "axes.titlesize: 22\n",
    "axes.labelsize: 16\n",
    "\n",
    "xtick.labelsize: 14\n",
    "ytick.labelsize: 14\n",
    "xtick.major.size: 0\n",
    "xtick.minor.size: 0\n",
    "ytick.major.size: 0\n",
    "ytick.minor.size: 0\n",
    "\n",
    "axes.grid: True\n",
    "grid.alpha: 0.3\n",
    "grid.linewidth: 0.5\n",
    "grid.linestyle: --\n",
    "grid.color: black\n",
    "\n",
    "savefig.transparent: False\n",
    "savefig.bbox: tight\n",
    "savefig.format: png\n",
    "'''"
   ]
  },
  {
   "cell_type": "code",
   "execution_count": 9,
   "metadata": {
    "collapsed": false
   },
   "outputs": [
    {
     "name": "stdout",
     "output_type": "stream",
     "text": [
      "/Users/BadWizard/.matplotlib/stylelib/my_custom_style.mplstyle\n"
     ]
    }
   ],
   "source": [
    "mpl_style_location = ('{}/stylelib/my_custom_style.mplstyle'.format(mpl.get_configdir()))\n",
    "print(mpl_style_location)"
   ]
  },
  {
   "cell_type": "code",
   "execution_count": 10,
   "metadata": {
    "collapsed": true
   },
   "outputs": [],
   "source": [
    "with open(mpl_style_location, 'w') as out_file:\n",
    "    out_file.write(custom_style)"
   ]
  },
  {
   "cell_type": "code",
   "execution_count": null,
   "metadata": {
    "collapsed": true
   },
   "outputs": [],
   "source": []
  }
 ],
 "metadata": {
  "kernelspec": {
   "display_name": "Python 3",
   "language": "python",
   "name": "python3"
  },
  "language_info": {
   "codemirror_mode": {
    "name": "ipython",
    "version": 3
   },
   "file_extension": ".py",
   "mimetype": "text/x-python",
   "name": "python",
   "nbconvert_exporter": "python",
   "pygments_lexer": "ipython3",
   "version": "3.4.4"
  }
 },
 "nbformat": 4,
 "nbformat_minor": 0
}
